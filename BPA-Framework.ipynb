{
 "cells": [
  {
   "cell_type": "markdown",
   "metadata": {},
   "source": [
    "# Framework\n",
    "Test for the framework with which we will compare the different distance measurements."
   ]
  },
  {
   "cell_type": "code",
   "execution_count": 260,
   "metadata": {},
   "outputs": [],
   "source": [
    "# import all necessary libraries\n",
    "import distance\n",
    "\n",
    "from similarity.levenshtein import Levenshtein\n",
    "levenshtein = Levenshtein()\n",
    "\n",
    "from similarity.damerau import Damerau\n",
    "damerau = Damerau()\n",
    "\n",
    "from pyjarowinkler import distance as jwdistance\n",
    "from similarity.jarowinkler import JaroWinkler\n",
    "jarowinkler = JaroWinkler()\n",
    "\n",
    "from similarity.weighted_levenshtein import WeightedLevenshtein\n",
    "from similarity.weighted_levenshtein import CharacterSubstitutionInterface\n",
    "import math\n",
    "class CharacterSubstitution(CharacterSubstitutionInterface):\n",
    "    def cost(self, c0, c1):\n",
    "        return math.inf # assign inifte weight to all substitutions\n",
    "levenshtein2 = WeightedLevenshtein(CharacterSubstitution())\n",
    "\n",
    "import numpy as np\n",
    "from datetime import datetime"
   ]
  },
  {
   "cell_type": "code",
   "execution_count": 261,
   "metadata": {},
   "outputs": [],
   "source": [
    "import random\n",
    "import string\n",
    "\n",
    "def get_random_string(length):\n",
    "    #letters = [\"a\", \"b\", \"c\", \"d\", \"e\"] # limited alphabet to produce duplicates\n",
    "    letters = string.ascii_lowercase # extended alphabet\n",
    "    result_str = ''.join(random.choice(letters) for i in range(length))\n",
    "    return result_str"
   ]
  },
  {
   "cell_type": "code",
   "execution_count": 268,
   "metadata": {},
   "outputs": [
    {
     "name": "stdout",
     "output_type": "stream",
     "text": [
      "First 5 strings: ['ilbulggphq', 'zfzbfeuoew', 'kybbyhimkj', 'foysyllylq', 'cpcrktpbix']\n"
     ]
    }
   ],
   "source": [
    "# dummy data structure\n",
    "n = 300 # number of strings\n",
    "l = 10 # length of strings\n",
    "\n",
    "strings = []\n",
    "for i in range(n):\n",
    "    strings.append(get_random_string(l))\n",
    "#strings = [\"Sarah\", \"Raphael\", \"Sushit\", \"Max\", \"Jan\", \"Micky\", \"Caro\", \"Bekir\", \"Fabian\", \"Ossi\"]\n",
    "\n",
    "print(\"First 5 strings:\", strings[:5])\n",
    "\n",
    "n = len(strings)\n",
    "distMatrix = np.full((n, n), 0)"
   ]
  },
  {
   "cell_type": "markdown",
   "metadata": {},
   "source": [
    "## 1. Naive implementation"
   ]
  },
  {
   "cell_type": "code",
   "execution_count": 286,
   "metadata": {},
   "outputs": [
    {
     "name": "stdout",
     "output_type": "stream",
     "text": [
      "Iterations: 0\n",
      "Iterations: 100\n",
      "Iterations: 200\n",
      "Time needed: 0:00:07.370834\n",
      "[[ 0  0  0 ...  0  0  0]\n",
      " [10  0  9 ... 10  9  9]\n",
      " [ 9  9  0 ... 10 10 10]\n",
      " ...\n",
      " [ 9 10 10 ...  0  8  9]\n",
      " [10  9 10 ...  8  0 10]\n",
      " [10  9 10 ...  9 10  0]]\n"
     ]
    }
   ],
   "source": [
    "start = datetime.now()\n",
    "distMatrix = np.full((n, n), 0)\n",
    "\n",
    "# iterate through every combination and calculate distance\n",
    "for i, x in enumerate(strings):\n",
    "    for j, y in enumerate(strings):\n",
    "        #dist = distance.hamming(x, y) # Hamming distance - TODO: adjustment for length\n",
    "        dist = distance.levenshtein(x, y) # Levenshtein v1\n",
    "        #dist = levenshtein.distance(x, y) # Levenshtein v2 (faster than v1)\n",
    "        #dist = levenshtein2.distance(x, y) # Levenshtein II\n",
    "        #dist = damerau.distance(x, y) # Damerau-Levenshtein\n",
    "        #dist = jwdistance.get_jaro_distance(x, y) # Jaro-Winkler v1\n",
    "        #dist = jarowinkler.similarity(x, y) # Jaro-Winkler v2 (faster than v1)\n",
    "        distMatrix[i][j] = dist\n",
    "\n",
    "end = datetime.now()\n",
    "\n",
    "print(\"Time needed:\", end-start)\n",
    "print(distMatrix)"
   ]
  },
  {
   "cell_type": "markdown",
   "metadata": {},
   "source": [
    "## 2. Upper left triangle\n",
    "Hypothesis: Actual distance calculations take up the most time. Iteration overhead it negligable. Matrix mirroring is negligable."
   ]
  },
  {
   "cell_type": "code",
   "execution_count": 285,
   "metadata": {},
   "outputs": [
    {
     "name": "stdout",
     "output_type": "stream",
     "text": [
      "Iterations: 0\n",
      "Iterations: 100\n",
      "Iterations: 200\n",
      "Time needed: 0:00:03.809895\n",
      "[[ 0  0  0 ...  0  0  0]\n",
      " [ 0  0  9 ... 10  9  9]\n",
      " [ 0  9  0 ... 10 10 10]\n",
      " ...\n",
      " [ 0 10 10 ...  0  8  9]\n",
      " [ 0  9 10 ...  8  0 10]\n",
      " [ 0  9 10 ...  9 10  0]]\n"
     ]
    }
   ],
   "source": [
    "start = datetime.now()\n",
    "distMatrix = np.full((n, n), 0)\n",
    "\n",
    "for i, x in enumerate(strings):\n",
    "    for j, y in enumerate(strings):\n",
    "        if j > i: # only calculate upper right triangle of matrix\n",
    "            #dist = distance.hamming(x, y) # Hamming distance - TODO: adjustment for length\n",
    "            dist = distance.levenshtein(x, y) # Levenshtein v1\n",
    "            #dist = levenshtein.distance(x, y) # Levenshtein v2 (faster than v1)\n",
    "            #dist = levenshtein2.distance(x, y) # Levenshtein II\n",
    "            #dist = damerau.distance(x, y) # Damerau-Levenshtein\n",
    "            #dist = jwdistance.get_jaro_distance(x, y) # Jaro-Winkler v1\n",
    "            #dist = jarowinkler.similarity(x, y) # Jaro-Winkler v2 (faster than v1)\n",
    "\n",
    "            distMatrix[i][j] = dist\n",
    "\n",
    "# mirror upper right triangle of matrix by adding the transposition and subratcting the diagonal\n",
    "distMatrix = distMatrix + distMatrix.T - np.diag(np.diag(distMatrix)) \n",
    "\n",
    "end = datetime.now()\n",
    "\n",
    "print(\"Time needed:\", end-start)\n",
    "print(distMatrix)"
   ]
  },
  {
   "cell_type": "markdown",
   "metadata": {},
   "source": [
    "## 3. Dictionary Lookup\n",
    "Hypothesis: Lookup of already calculated values is faster than recalculation. There is a significant number of duplicates in the process log when considering all traces and not only variants. Adjust alphabet of `get_random_string()` to try."
   ]
  },
  {
   "cell_type": "code",
   "execution_count": 287,
   "metadata": {},
   "outputs": [
    {
     "name": "stdout",
     "output_type": "stream",
     "text": [
      "Time needed: 0:00:04.469166\n",
      "[[ 0 10  9 ...  9 10 10]\n",
      " [10  0  9 ... 10  9  9]\n",
      " [ 9  9  0 ... 10 10 10]\n",
      " ...\n",
      " [ 9 10 10 ...  0  8  9]\n",
      " [10  9 10 ...  8  0 10]\n",
      " [10  9 10 ...  9 10  0]]\n"
     ]
    }
   ],
   "source": [
    "start = datetime.now()\n",
    "distMatrix = np.full((n, n), 0)\n",
    "d = {}\n",
    "\n",
    "# iterate through every combination and calculate distance\n",
    "for i, x in enumerate(strings):\n",
    "    for j, y in enumerate(strings):\n",
    "        if j > i: # only calculate upper right triangle of matrix\n",
    "            if  (x, y) in d.keys():\n",
    "                dist = d[(x, y)]\n",
    "            else:\n",
    "                #dist = distance.hamming(x, y) # Hamming distance - TODO: adjustment for length\n",
    "                dist = distance.levenshtein(x, y) # Levenshtein v1\n",
    "                #dist = levenshtein.distance(x, y) # Levenshtein v2 (faster than v1)\n",
    "                #dist = levenshtein2.distance(x, y) # Levenshtein II\n",
    "                #dist = damerau.distance(x, y) # Damerau-Levenshtein\n",
    "                #dist = jwdistance.get_jaro_distance(x, y) # Jaro-Winkler v1\n",
    "                #dist = jarowinkler.similarity(x, y) # Jaro-Winkler v2 (faster than v1)\n",
    "                \n",
    "                # add calculated distance to dictionary\n",
    "                d[(x, y)] = dist\n",
    "                d[(y, x)] = dist\n",
    "\n",
    "            distMatrix[i][j] = dist\n",
    "\n",
    "# mirror upper right triangle of matrix by adding the transposition and subratcting the diagonal\n",
    "distMatrix = distMatrix + distMatrix.T - np.diag(np.diag(distMatrix)) \n",
    "\n",
    "end = datetime.now()\n",
    "\n",
    "\n",
    "print(\"Time needed:\", end-start)\n",
    "print(distMatrix)"
   ]
  }
 ],
 "metadata": {
  "kernelspec": {
   "display_name": "Python 3",
   "language": "python",
   "name": "python3"
  },
  "language_info": {
   "codemirror_mode": {
    "name": "ipython",
    "version": 3
   },
   "file_extension": ".py",
   "mimetype": "text/x-python",
   "name": "python",
   "nbconvert_exporter": "python",
   "pygments_lexer": "ipython3",
   "version": "3.8.5"
  }
 },
 "nbformat": 4,
 "nbformat_minor": 4
}
