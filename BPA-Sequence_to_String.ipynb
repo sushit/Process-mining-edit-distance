{
 "cells": [
  {
   "cell_type": "markdown",
   "metadata": {},
   "source": [
    "# Sequence to String\n",
    "Test for converting event logs into lists of strings"
   ]
  },
  {
   "cell_type": "code",
   "execution_count": 11,
   "metadata": {},
   "outputs": [],
   "source": [
    "from pm4py.objects.log.importer.xes import importer as xes_importer\n",
    "from pm4py.algo.filtering.log.attributes import attributes_filter\n",
    "from pm4py.algo.filtering.log.variants import variants_filter"
   ]
  },
  {
   "cell_type": "code",
   "execution_count": 42,
   "metadata": {},
   "outputs": [
    {
     "data": {
      "application/vnd.jupyter.widget-view+json": {
       "model_id": "b8e36f26c5494aeaabd5b9bfac0a99e5",
       "version_major": 2,
       "version_minor": 0
      },
      "text/plain": [
       "parsing log, completed traces ::   0%|          | 0/7065 [00:00<?, ?it/s]"
      ]
     },
     "metadata": {},
     "output_type": "display_data"
    }
   ],
   "source": [
    "log = xes_importer.apply(\"../Datasets/BPIC20.xes\") # adjust for local file location"
   ]
  },
  {
   "cell_type": "markdown",
   "metadata": {},
   "source": [
    "## Generate mapping from activities to chars"
   ]
  },
  {
   "cell_type": "code",
   "execution_count": 70,
   "metadata": {},
   "outputs": [],
   "source": [
    "# extract all activities from log and convert them into list\n",
    "activities = list(attributes_filter.get_attribute_values(log, \"concept:name\").keys())\n",
    "\n",
    "transl = {} # dictionary mapping the names of the activities to chars\n",
    "for i, a in enumerate(activities):\n",
    "    transl[a] = chr(i+1)\n",
    "\n",
    "# method to convert a given trace into a string using the dictionary\n",
    "def trace_to_string(trace):\n",
    "    string = \"\"\n",
    "    for e in trace:\n",
    "        string = string + transl[e[\"concept:name\"]]\n",
    "    return string\n",
    "\n",
    "def list_to_string(trace):\n",
    "    string = \"\"\n",
    "    for e in trace:\n",
    "        string = string + transl[e] \n",
    "    return string"
   ]
  },
  {
   "cell_type": "markdown",
   "metadata": {},
   "source": [
    "## Option 1: Generate list of strings for all traces"
   ]
  },
  {
   "cell_type": "code",
   "execution_count": 77,
   "metadata": {},
   "outputs": [
    {
     "name": "stdout",
     "output_type": "stream",
     "text": [
      "First 5 strings: ['\\x00\\x01\\x02\\x03\\x04\\x05\\x06\\x07', '\\x00\\x01\\x02\\x03\\x04\\x05\\x06\\x07', '\\x00\\x01\\x02\\x03\\x04\\x05\\x06\\x07', '\\x00\\x01\\x08', '\\x00\\x02\\t\\n\\x04\\x0b\\x04\\x0b\\x04\\x0b\\x05\\x05\\x05\\x06\\x06\\x06\\x07\\x07\\x07\\x04\\x0b\\x05\\x06\\x07\\x04\\x0b\\x04\\x0b\\x05\\x05\\x06\\x06\\x07\\x07\\x04\\x0b\\x04\\x0b\\x05\\x05\\x06\\x06\\x07\\x07\\x04\\x04\\x0b\\x05\\x0b\\x04\\x0b\\x04\\x0b\\x04\\x0b\\x05\\x05\\x05\\x05\\x04\\x0b\\x04\\x0b\\x05\\x05\\x06\\x06\\x06\\x06\\x06\\x06\\x07\\x07\\x07\\x07\\x07\\x07\\x06\\x07\\x04\\x0b\\x05\\x06\\x07\\x01\\x04\\x0c\\x05\\x06\\x07']\n",
      "7065\n"
     ]
    }
   ],
   "source": [
    "stringsT = []\n",
    "\n",
    "# iterate through all traces in the log and generte the string for each\n",
    "for t in log:\n",
    "    stringsT.append(trace_to_string(t))\n",
    "\n",
    "print(\"First 5 strings:\", stringsT[:5])\n",
    "print(\"Nr. of sintrgs:\", len(stringsT))"
   ]
  },
  {
   "cell_type": "markdown",
   "metadata": {},
   "source": [
    "## Option 2: Generate list of strings for all variants"
   ]
  },
  {
   "cell_type": "code",
   "execution_count": 78,
   "metadata": {},
   "outputs": [
    {
     "name": "stdout",
     "output_type": "stream",
     "text": [
      "First 5 strings: ['\\x00\\x01\\x02\\x03\\x04\\x05\\x06\\x07', '\\x00\\x01\\x08', '\\x00\\x02\\t\\n\\x04\\x0b\\x04\\x0b\\x04\\x0b\\x05\\x05\\x05\\x06\\x06\\x06\\x07\\x07\\x07\\x04\\x0b\\x05\\x06\\x07\\x04\\x0b\\x04\\x0b\\x05\\x05\\x06\\x06\\x07\\x07\\x04\\x0b\\x04\\x0b\\x05\\x05\\x06\\x06\\x07\\x07\\x04\\x04\\x0b\\x05\\x0b\\x04\\x0b\\x04\\x0b\\x04\\x0b\\x05\\x05\\x05\\x05\\x04\\x0b\\x04\\x0b\\x05\\x05\\x06\\x06\\x06\\x06\\x06\\x06\\x07\\x07\\x07\\x07\\x07\\x07\\x06\\x07\\x04\\x0b\\x05\\x06\\x07\\x01\\x04\\x0c\\x05\\x06\\x07', '\\x00\\x01\\x02\\r\\x03\\x04\\x0e\\x0f\\x04\\x0b\\x05\\x06\\x07', '\\x02\\x03\\x00\\x01\\x10']\n",
      "Nr. of sintrgs: 1478\n"
     ]
    }
   ],
   "source": [
    "variants = list(variants_filter.get_variants(log).keys())\n",
    "stringsV = []\n",
    "\n",
    "for v in variants:\n",
    "    stringsV.append(list_to_string(v.split(\",\")))\n",
    "\n",
    "print(\"First 5 strings:\", stringsV[:5])\n",
    "print(\"Nr. of sintrgs:\", len(stringsV))"
   ]
  }
 ],
 "metadata": {
  "kernelspec": {
   "display_name": "Python 3",
   "language": "python",
   "name": "python3"
  },
  "language_info": {
   "codemirror_mode": {
    "name": "ipython",
    "version": 3
   },
   "file_extension": ".py",
   "mimetype": "text/x-python",
   "name": "python",
   "nbconvert_exporter": "python",
   "pygments_lexer": "ipython3",
   "version": "3.8.5"
  }
 },
 "nbformat": 4,
 "nbformat_minor": 4
}
