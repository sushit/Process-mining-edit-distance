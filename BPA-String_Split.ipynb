{
 "cells": [
  {
   "cell_type": "code",
   "execution_count": 1,
   "metadata": {},
   "outputs": [],
   "source": [
    "## import all necessary libraries ##\n",
    "import distance\n",
    "\n",
    "from similarity.levenshtein import Levenshtein\n",
    "levenshtein = Levenshtein()\n",
    "\n",
    "from similarity.damerau import Damerau\n",
    "damerau = Damerau()\n",
    "\n",
    "from pyjarowinkler import distance as jwdistance\n",
    "from similarity.jarowinkler import JaroWinkler\n",
    "jarowinkler = JaroWinkler()\n",
    "\n",
    "from similarity.weighted_levenshtein import WeightedLevenshtein\n",
    "from similarity.weighted_levenshtein import CharacterSubstitutionInterface\n",
    "import math\n",
    "class CharacterSubstitution(CharacterSubstitutionInterface):\n",
    "    def cost(self, c0, c1):\n",
    "        return math.inf # assign inifte weight to all substitutions\n",
    "levenshtein2 = WeightedLevenshtein(CharacterSubstitution())\n",
    "\n",
    "#########################\n",
    "\n",
    "import numpy as np\n",
    "from datetime import datetime\n",
    "import random \n",
    "\n",
    "#########################\n",
    "\n",
    "from pm4py.objects.log.importer.xes import importer as xes_importer\n",
    "from pm4py.algo.filtering.log.attributes import attributes_filter\n",
    "from pm4py.algo.filtering.log.variants import variants_filter"
   ]
  },
  {
   "cell_type": "code",
   "execution_count": 85,
   "metadata": {},
   "outputs": [
    {
     "data": {
      "application/vnd.jupyter.widget-view+json": {
       "model_id": "2960998ae0574949a3f66ab702a96711",
       "version_major": 2,
       "version_minor": 0
      },
      "text/plain": [
       "parsing log, completed traces ::   0%|          | 0/7065 [00:00<?, ?it/s]"
      ]
     },
     "metadata": {},
     "output_type": "display_data"
    }
   ],
   "source": [
    "## import dataset ##\n",
    "file = \"BPIC20\"\n",
    "log = xes_importer.apply(\"../Datasets/\"+ file + \".xes\") # adjust for local file location"
   ]
  },
  {
   "cell_type": "code",
   "execution_count": 86,
   "metadata": {},
   "outputs": [],
   "source": [
    "## generate mapping from activities to chars ##\n",
    "\n",
    "# extract all activities from log and convert them into list\n",
    "activities = list(attributes_filter.get_attribute_values(log, \"concept:name\").keys())\n",
    "\n",
    "transl = {} # dictionary mapping the names of the activities to chars\n",
    "for i, a in enumerate(activities):\n",
    "    transl[a] = chr(i+1)\n",
    "\n",
    "def list_to_string(trace):\n",
    "    string = \"\"\n",
    "    for e in trace:\n",
    "        string = string + transl[e] \n",
    "    return string"
   ]
  },
  {
   "cell_type": "code",
   "execution_count": 87,
   "metadata": {},
   "outputs": [
    {
     "name": "stdout",
     "output_type": "stream",
     "text": [
      "First 5 strings: ['\\x01\\x02\\x03\\x04\\x05\\x06\\x07\\x08', '\\x01\\x02\\t', '\\x01\\x03\\n\\x0b\\x05\\x0c\\x05\\x0c\\x05\\x0c\\x06\\x06\\x06\\x07\\x07\\x07\\x08\\x08\\x08\\x05\\x0c\\x06\\x07\\x08\\x05\\x0c\\x05\\x0c\\x06\\x06\\x07\\x07\\x08\\x08\\x05\\x0c\\x05\\x0c\\x06\\x06\\x07\\x07\\x08\\x08\\x05\\x05\\x0c\\x06\\x0c\\x05\\x0c\\x05\\x0c\\x05\\x0c\\x06\\x06\\x06\\x06\\x05\\x0c\\x05\\x0c\\x06\\x06\\x07\\x07\\x07\\x07\\x07\\x07\\x08\\x08\\x08\\x08\\x08\\x08\\x07\\x08\\x05\\x0c\\x06\\x07\\x08\\x02\\x05\\r\\x06\\x07\\x08', '\\x01\\x02\\x03\\x0e\\x04\\x05\\x0f\\x10\\x05\\x0c\\x06\\x07\\x08', '\\x03\\x04\\x01\\x02\\x11']\n",
      "No. of strings: 1478\n"
     ]
    }
   ],
   "source": [
    "## generate list of strings for all variants ##\n",
    "\n",
    "variants = list(variants_filter.get_variants(log).keys())\n",
    "strings = [] # list of strings for each variant\n",
    "variant_to_index = {} # dicitionary to translate variant to index in list for later lookup of traces\n",
    "\n",
    "# generate strings\n",
    "for i, v in enumerate(variants):\n",
    "    strings.append(list_to_string(v.split(\",\")))\n",
    "    variant_to_index[v] = i\n",
    "\n",
    "# translation function: trace to index\n",
    "def trace_to_index(trace):\n",
    "    # convert trace to string representation of variant (concept:name separated by commas)\n",
    "    trace_string = \"\"\n",
    "    for e in trace:\n",
    "        trace_string = trace_string + e[\"concept:name\"] + \",\"\n",
    "    trace_string = trace_string[:-1] # remove last comma\n",
    "    \n",
    "    # lookup string representation of variant\n",
    "    return variant_to_index[trace_string]\n",
    "        \n",
    "print(\"First 5 strings:\", strings[:5])\n",
    "print(\"No. of strings:\", len(strings))"
   ]
  },
  {
   "cell_type": "code",
   "execution_count": 42,
   "metadata": {},
   "outputs": [
    {
     "name": "stdout",
     "output_type": "stream",
     "text": [
      "First 5 strings: ['\\x01\\x02\\x03\\x04\\x05\\x06\\x07\\x08\\x00\\x00\\x00\\x00\\x00\\x00\\x00\\x00\\x00\\x00\\x00\\x00\\x00\\x00\\x00\\x00\\x00\\x00\\x00\\x00\\x00\\x00\\x00\\x00\\x00\\x00\\x00\\x00\\x00\\x00\\x00\\x00\\x00\\x00\\x00\\x00\\x00\\x00\\x00\\x00\\x00\\x00\\x00\\x00\\x00\\x00\\x00\\x00\\x00\\x00\\x00\\x00\\x00\\x00\\x00\\x00\\x00\\x00\\x00\\x00\\x00\\x00\\x00\\x00\\x00\\x00\\x00\\x00\\x00\\x00\\x00\\x00\\x00\\x00\\x00\\x00\\x00\\x00\\x00\\x00\\x00\\x00', '\\x01\\x02\\t\\x00\\x00\\x00\\x00\\x00\\x00\\x00\\x00\\x00\\x00\\x00\\x00\\x00\\x00\\x00\\x00\\x00\\x00\\x00\\x00\\x00\\x00\\x00\\x00\\x00\\x00\\x00\\x00\\x00\\x00\\x00\\x00\\x00\\x00\\x00\\x00\\x00\\x00\\x00\\x00\\x00\\x00\\x00\\x00\\x00\\x00\\x00\\x00\\x00\\x00\\x00\\x00\\x00\\x00\\x00\\x00\\x00\\x00\\x00\\x00\\x00\\x00\\x00\\x00\\x00\\x00\\x00\\x00\\x00\\x00\\x00\\x00\\x00\\x00\\x00\\x00\\x00\\x00\\x00\\x00\\x00\\x00\\x00\\x00\\x00\\x00\\x00', '\\x01\\x03\\n\\x0b\\x05\\x0c\\x05\\x0c\\x05\\x0c\\x06\\x06\\x06\\x07\\x07\\x07\\x08\\x08\\x08\\x05\\x0c\\x06\\x07\\x08\\x05\\x0c\\x05\\x0c\\x06\\x06\\x07\\x07\\x08\\x08\\x05\\x0c\\x05\\x0c\\x06\\x06\\x07\\x07\\x08\\x08\\x05\\x05\\x0c\\x06\\x0c\\x05\\x0c\\x05\\x0c\\x05\\x0c\\x06\\x06\\x06\\x06\\x05\\x0c\\x05\\x0c\\x06\\x06\\x07\\x07\\x07\\x07\\x07\\x07\\x08\\x08\\x08\\x08\\x08\\x08\\x07\\x08\\x05\\x0c\\x06\\x07\\x08\\x02\\x05\\r\\x06\\x07\\x08', '\\x01\\x02\\x03\\x0e\\x04\\x05\\x0f\\x10\\x05\\x0c\\x06\\x07\\x08\\x00\\x00\\x00\\x00\\x00\\x00\\x00\\x00\\x00\\x00\\x00\\x00\\x00\\x00\\x00\\x00\\x00\\x00\\x00\\x00\\x00\\x00\\x00\\x00\\x00\\x00\\x00\\x00\\x00\\x00\\x00\\x00\\x00\\x00\\x00\\x00\\x00\\x00\\x00\\x00\\x00\\x00\\x00\\x00\\x00\\x00\\x00\\x00\\x00\\x00\\x00\\x00\\x00\\x00\\x00\\x00\\x00\\x00\\x00\\x00\\x00\\x00\\x00\\x00\\x00\\x00\\x00\\x00\\x00\\x00\\x00\\x00\\x00\\x00\\x00\\x00\\x00', '\\x03\\x04\\x01\\x02\\x11\\x00\\x00\\x00\\x00\\x00\\x00\\x00\\x00\\x00\\x00\\x00\\x00\\x00\\x00\\x00\\x00\\x00\\x00\\x00\\x00\\x00\\x00\\x00\\x00\\x00\\x00\\x00\\x00\\x00\\x00\\x00\\x00\\x00\\x00\\x00\\x00\\x00\\x00\\x00\\x00\\x00\\x00\\x00\\x00\\x00\\x00\\x00\\x00\\x00\\x00\\x00\\x00\\x00\\x00\\x00\\x00\\x00\\x00\\x00\\x00\\x00\\x00\\x00\\x00\\x00\\x00\\x00\\x00\\x00\\x00\\x00\\x00\\x00\\x00\\x00\\x00\\x00\\x00\\x00\\x00\\x00\\x00\\x00\\x00\\x00']\n"
     ]
    }
   ],
   "source": [
    "## optional padding when using Hamming distance ##\n",
    "\n",
    "count = 0\n",
    "for s in strings:\n",
    "    if len(s) > count:\n",
    "        count = len(s)\n",
    "\n",
    "strings_pad = []\n",
    "\n",
    "for s in strings:\n",
    "    strings_pad.append(s + chr(0) * (count - len(s)))\n",
    "\n",
    "strings = strings_pad\n",
    "\n",
    "print(\"First 5 strings:\", strings_pad[:5])"
   ]
  },
  {
   "cell_type": "code",
   "execution_count": 61,
   "metadata": {},
   "outputs": [
    {
     "name": "stdout",
     "output_type": "stream",
     "text": [
      "45\n",
      "45\n"
     ]
    }
   ],
   "source": [
    "x = strings[0]\n",
    "y = strings[1]\n",
    "\n",
    "x_split = round(len(x)/2)\n",
    "x1 = x[:x_split]\n",
    "x2 = x[x_split:]\n",
    "y_split = round(len(y)/2)\n",
    "y1 = y[y_split:]\n",
    "y2 = y[:y_split]\n",
    "\n",
    "print(len(y1))\n",
    "print(len(y2))"
   ]
  },
  {
   "cell_type": "markdown",
   "metadata": {},
   "source": [
    "# Calculation with string split"
   ]
  },
  {
   "cell_type": "code",
   "execution_count": 83,
   "metadata": {},
   "outputs": [
    {
     "name": "stdout",
     "output_type": "stream",
     "text": [
      "Start: 2021-01-24 14:30:17.352365\n",
      "Time needed: 0:00:20.198630\n",
      "[[ 0  6 88 ... 13 11  8]\n",
      " [ 6  0 89 ... 13 12  6]\n",
      " [88 89  0 ... 90 90 90]\n",
      " ...\n",
      " [13 13 90 ...  0 11 11]\n",
      " [11 12 90 ... 11  0 10]\n",
      " [ 8  6 90 ... 11 10  0]]\n"
     ]
    }
   ],
   "source": [
    "## calculation of distance matrix ##\n",
    "\n",
    "#strings = strings_pad # optional use of padded strings for Hamming\n",
    "n = len(strings)\n",
    "distMatrix = np.full((n, n), 0, dtype = np.byte)\n",
    "start = datetime.now()\n",
    "print(\"Start:\", start)\n",
    "\n",
    "for i, x in enumerate(strings):\n",
    "    for j, y in enumerate(strings):\n",
    "        if j >= i: # only calculate upper right triangle of matrix\n",
    "            x_split = round(len(x)/2)\n",
    "            x1 = x[:x_split]\n",
    "            x2 = x[x_split:]\n",
    "            y_split = round(len(y)/2)\n",
    "            y1 = y[:y_split]\n",
    "            y2 = y[y_split:]\n",
    "\n",
    "            dist1 = distance.hamming(x1, y1) # Hamming distance\n",
    "            dist2 = distance.hamming(x2, y2)\n",
    "            \n",
    "            #dist1 = levenshtein.distance(x1, y1) # Levenshtein v2 (faster than v1)\n",
    "            #dist2 = levenshtein.distance(x2, y2)\n",
    "            \n",
    "            #dist1 = levenshtein2.distance(x1, y1) # Levenshtein II\n",
    "            #dist2 = levenshtein2.distance(x2, y2)\n",
    "\n",
    "            #dist1 = damerau.distance(x1, y1) # Damerau-Levenshtein\n",
    "            #dist2 = damerau.distance(x2, y2)\n",
    "            \n",
    "            #dist1 = jarowinkler.similarity(x1, y1) * 100 / 2 # Jaro-Winkler v2 (faster than v1)\n",
    "            #dist2 = jarowinkler.similarity(x2, y2) * 100 /2\n",
    "\n",
    "            dist = dist1 + dist2\n",
    "            distMatrix[i][j] = dist\n",
    "\n",
    "# mirror upper right triangle of matrix by adding the transposition\n",
    "distMatrix = distMatrix + distMatrix.T - np.diag(np.diag(distMatrix)) \n",
    "\n",
    "end = datetime.now()\n",
    "\n",
    "\n",
    "print(\"Time needed:\", end-start)\n",
    "\n",
    "np.savetxt(\"Results/Split/Split-\" + file + \"-Hamming.csv\", distMatrix, fmt='%i', delimiter = \";\")\n",
    "print(distMatrix)"
   ]
  },
  {
   "cell_type": "code",
   "execution_count": 84,
   "metadata": {},
   "outputs": [
    {
     "data": {
      "text/plain": [
       "'\\x01\\x03\\n\\x0b\\x05\\x0c\\x05\\x0c\\x05\\x0c\\x06\\x06\\x06\\x07\\x07\\x07\\x08\\x08\\x08\\x05\\x0c\\x06\\x07\\x08\\x05\\x0c\\x05\\x0c\\x06\\x06\\x07\\x07\\x08\\x08\\x05\\x0c\\x05\\x0c\\x06\\x06\\x07\\x07\\x08\\x08\\x05\\x05\\x0c\\x06\\x0c\\x05\\x0c\\x05\\x0c\\x05\\x0c\\x06\\x06\\x06\\x06\\x05\\x0c\\x05\\x0c\\x06\\x06\\x07\\x07\\x07\\x07\\x07\\x07\\x08\\x08\\x08\\x08\\x08\\x08\\x07\\x08\\x05\\x0c\\x06\\x07\\x08\\x02\\x05\\r\\x06\\x07\\x08'"
      ]
     },
     "execution_count": 84,
     "metadata": {},
     "output_type": "execute_result"
    }
   ],
   "source": []
  },
  {
   "cell_type": "markdown",
   "metadata": {},
   "source": [
    "# All"
   ]
  },
  {
   "cell_type": "code",
   "execution_count": null,
   "metadata": {},
   "outputs": [
    {
     "name": "stdout",
     "output_type": "stream",
     "text": [
      "Start: 2021-01-24 14:32:40.108029\n",
      "Time needed: 0:02:23.402584\n",
      "[[ 0  6 85 ... 11 11  8]\n",
      " [ 6  0 89 ... 13 12  6]\n",
      " [85 89  0 ... 85 86 88]\n",
      " ...\n",
      " [11 13 85 ...  0  8 10]\n",
      " [11 12 86 ...  8  0  9]\n",
      " [ 8  6 88 ... 10  9  0]]\n",
      "Start: 2021-01-24 14:35:04.313969\n",
      "Time needed: 0:04:38.914714\n",
      "[[ 0  7 86 ... 13 14 12]\n",
      " [ 7  0 91 ... 16 15  7]\n",
      " [86 91  0 ... 93 94 92]\n",
      " ...\n",
      " [13 16 93 ...  0 13 13]\n",
      " [14 15 94 ... 13  0 12]\n",
      " [12  7 92 ... 13 12  0]]\n",
      "Start: 2021-01-24 14:39:44.067759\n"
     ]
    }
   ],
   "source": [
    "## calculation of distance matrix ##\n",
    "\n",
    "for m in range(1, 5):\n",
    "    #strings = strings_pad # optional use of padded strings for Hamming\n",
    "    n = len(strings)\n",
    "    distMatrix = np.full((n, n), 0, dtype = np.byte)\n",
    "\n",
    "    start = datetime.now()\n",
    "    print(\"Start:\", start)\n",
    "\n",
    "    for i, x in enumerate(strings):\n",
    "        for j, y in enumerate(strings):\n",
    "            if j >= i: # only calculate upper right triangle of matrix\n",
    "                x_split = round(len(x)/2)\n",
    "                x1 = x[:x_split]\n",
    "                x2 = x[x_split:]\n",
    "                y_split = round(len(y)/2)\n",
    "                y1 = y[:y_split]\n",
    "                y2 = y[y_split:]\n",
    "                \n",
    "                if m == 0: # skipped\n",
    "                    method = \"Hamming\"\n",
    "                    dist1 = distance.hamming(x1, y1) # Hamming distance\n",
    "                    dist2 = distance.hamming(x2, y2)\n",
    "                if m == 1:\n",
    "                    method = \"Levenshtein\"\n",
    "                    dist1 = levenshtein.distance(x1, y1) # Levenshtein v2 (faster than v1)\n",
    "                    dist2 = levenshtein.distance(x2, y2)\n",
    "\n",
    "                if m == 2:\n",
    "                    method = \"Levenshtein2\"\n",
    "                    dist1 = levenshtein2.distance(x1, y1) # Levenshtein II\n",
    "                    dist2 = levenshtein2.distance(x2, y2)\n",
    "                \n",
    "                if m == 3:\n",
    "                    method = \"Damerau\"\n",
    "                    dist1 = damerau.distance(x1, y1) # Damerau-Levenshtein\n",
    "                    dist2 = damerau.distance(x2, y2)\n",
    "\n",
    "                if m == 4:\n",
    "                    method = \"JaroWinkler\"\n",
    "                    dist1 = jarowinkler.similarity(x1, y1) * 100 / 2 # factor 100 scaling for byte storage. factor 0.5 for jaro winkler scaling\n",
    "                    dist2 = jarowinkler.similarity(x2, y2) * 100 / 2\n",
    "\n",
    "                dist = dist1 + dist2\n",
    "                distMatrix[i][j] = dist\n",
    "\n",
    "    # mirror upper right triangle of matrix by adding the transposition\n",
    "    distMatrix = distMatrix + distMatrix.T\n",
    "\n",
    "    end = datetime.now()\n",
    "\n",
    "\n",
    "    print(\"Time needed:\", end-start)\n",
    "\n",
    "    np.savetxt(\"Results/Split/Split-\" + file + \"-\" + method + \".csv\", distMatrix, fmt='%i', delimiter = \";\")\n",
    "    print(distMatrix)"
   ]
  }
 ],
 "metadata": {
  "kernelspec": {
   "display_name": "Python 3",
   "language": "python",
   "name": "python3"
  },
  "language_info": {
   "codemirror_mode": {
    "name": "ipython",
    "version": 3
   },
   "file_extension": ".py",
   "mimetype": "text/x-python",
   "name": "python",
   "nbconvert_exporter": "python",
   "pygments_lexer": "ipython3",
   "version": "3.8.5"
  }
 },
 "nbformat": 4,
 "nbformat_minor": 4
}
