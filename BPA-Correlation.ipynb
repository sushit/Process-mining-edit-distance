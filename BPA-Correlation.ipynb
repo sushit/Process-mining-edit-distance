{
 "cells": [
  {
   "cell_type": "code",
   "execution_count": 1,
   "metadata": {},
   "outputs": [],
   "source": [
    "import numpy as np\n",
    "import os"
   ]
  },
  {
   "cell_type": "code",
   "execution_count": 6,
   "metadata": {},
   "outputs": [],
   "source": [
    "distMatrix_m1 = np.genfromtxt(\"../Results/BPIC13-Hamming-2021-01-25 21-53-18.csv\", delimiter=';', dtype = np.int)\n",
    "distMatrix_m2 = np.genfromtxt(\"../Results/PrefixSplit/PrefixSplit-BPIC13-Hamming-2021-01-30 20-51-18.csv\", delimiter=';', dtype = np.int)\n",
    "\n",
    "#distMatrix_heu = np.genfromtxt(\"../Results/Split2/Split2-BPIC20-Levenshtein-2021-01-25 23-37-06.csv\", delimiter=';', dtype = np.int)"
   ]
  },
  {
   "cell_type": "markdown",
   "metadata": {},
   "source": [
    "# Correlation"
   ]
  },
  {
   "cell_type": "markdown",
   "metadata": {},
   "source": [
    "# Correlation"
   ]
  },
  {
   "cell_type": "code",
   "execution_count": 27,
   "metadata": {},
   "outputs": [
    {
     "data": {
      "text/plain": [
       "array([[ 1.        ,  0.93094355,  0.88417094,  0.93050347, -0.34801887],\n",
       "       [ 0.93094355,  1.        ,  0.96389464,  0.99968285, -0.52355546],\n",
       "       [ 0.88417094,  0.96389464,  1.        ,  0.96414959, -0.58747425],\n",
       "       [ 0.93050347,  0.99968285,  0.96414959,  1.        , -0.5262352 ],\n",
       "       [-0.34801887, -0.52355546, -0.58747425, -0.5262352 ,  1.        ]])"
      ]
     },
     "execution_count": 27,
     "metadata": {},
     "output_type": "execute_result"
    }
   ],
   "source": [
    "bpic = \"BPIC20\"\n",
    "methods = [\"Hamming\", \"Levenshtein\", \"Levenshtein2\", \"Damerau\", \"JaroWinkler\"]\n",
    "\n",
    "cor = np.full((len(methods), len(methods)), 0, dtype = np.float)\n",
    "\n",
    "for i, m1 in enumerate(methods):\n",
    "    file_m1 = [filename for filename in os.listdir(\"../Results\") if filename.startswith(bpic + \"-\" + m1)][0]\n",
    "    distMatrix_m1 = np.genfromtxt(\"../Results/\" + file_m1, delimiter=';', dtype = np.int)\n",
    "    for j, m2 in enumerate(methods):\n",
    "        if(j >= i):\n",
    "            file_m2 = [filename for filename in os.listdir(\"../Results\") if filename.startswith(bpic + \"-\" + m2)][0]\n",
    "            distMatrix_m2 = np.genfromtxt(\"../Results/\" + file_m2, delimiter=';', dtype = np.int)\n",
    "            corrcoef = np.corrcoef(distMatrix_m1.flatten(), distMatrix_m2.flatten())[0][1]\n",
    "            #print(corrcoef)\n",
    "            cor[i][j] = corrcoef\n",
    "\n",
    "cor = cor + cor.T - np.diag(np.diag(cor))\n",
    "cor"
   ]
  },
  {
   "cell_type": "code",
   "execution_count": 26,
   "metadata": {},
   "outputs": [
    {
     "data": {
      "text/plain": [
       "array([[ 1.        ,  0.94047747,  0.9065797 ,  0.94137862, -0.35163592],\n",
       "       [ 0.94047747,  1.        ,  0.97890798,  0.99930913, -0.43579836],\n",
       "       [ 0.9065797 ,  0.97890798,  1.        ,  0.97843004, -0.43337308],\n",
       "       [ 0.94137862,  0.99930913,  0.97843004,  1.        , -0.43914028],\n",
       "       [-0.35163592, -0.43579836, -0.43337308, -0.43914028,  1.        ]])"
      ]
     },
     "execution_count": 26,
     "metadata": {},
     "output_type": "execute_result"
    }
   ],
   "source": [
    "cor"
   ]
  }
 ],
 "metadata": {
  "kernelspec": {
   "display_name": "Python 3",
   "language": "python",
   "name": "python3"
  },
  "language_info": {
   "codemirror_mode": {
    "name": "ipython",
    "version": 3
   },
   "file_extension": ".py",
   "mimetype": "text/x-python",
   "name": "python",
   "nbconvert_exporter": "python",
   "pygments_lexer": "ipython3",
   "version": "3.8.5"
  }
 },
 "nbformat": 4,
 "nbformat_minor": 4
}
