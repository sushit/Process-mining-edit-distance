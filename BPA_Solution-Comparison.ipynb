{
 "cells": [
  {
   "cell_type": "code",
   "execution_count": 14,
   "metadata": {},
   "outputs": [],
   "source": [
    "import numpy as np"
   ]
  },
  {
   "cell_type": "code",
   "execution_count": 15,
   "metadata": {},
   "outputs": [],
   "source": [
    "distMatrix_opt = np.genfromtxt(\"Results/BPIC20-Levenshtein.csv\", delimiter=';', dtype = np.byte)\n",
    "distMatrix_heu = np.genfromtxt(\"Results/Split/Split-BPIC20-Levenshtein.csv\", delimiter=';', dtype = np.byte)"
   ]
  },
  {
   "cell_type": "code",
   "execution_count": 29,
   "metadata": {},
   "outputs": [
    {
     "data": {
      "text/plain": [
       "5.316256836854836"
      ]
     },
     "execution_count": 29,
     "metadata": {},
     "output_type": "execute_result"
    }
   ],
   "source": [
    "error = 0\n",
    "\n",
    "for x in range(distMatrix_opt.shape[0]):\n",
    "    for y in range(distMatrix_opt.shape[1]):\n",
    "        error += abs(distMatrix_opt[x][y] - distMatrix_heu[x][y])\n",
    "\n",
    "mean_abs_error = error/distMatrix_opt.size"
   ]
  }
 ],
 "metadata": {
  "kernelspec": {
   "display_name": "Python 3",
   "language": "python",
   "name": "python3"
  },
  "language_info": {
   "codemirror_mode": {
    "name": "ipython",
    "version": 3
   },
   "file_extension": ".py",
   "mimetype": "text/x-python",
   "name": "python",
   "nbconvert_exporter": "python",
   "pygments_lexer": "ipython3",
   "version": "3.8.5"
  }
 },
 "nbformat": 4,
 "nbformat_minor": 4
}
