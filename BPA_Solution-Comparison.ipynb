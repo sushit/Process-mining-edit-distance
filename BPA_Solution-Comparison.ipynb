{
 "cells": [
  {
   "cell_type": "code",
   "execution_count": 11,
   "metadata": {},
   "outputs": [],
   "source": [
    "import numpy as np\n",
    "import os"
   ]
  },
  {
   "cell_type": "code",
   "execution_count": 8,
   "metadata": {},
   "outputs": [],
   "source": [
    "distMatrix_opt = np.genfromtxt(\"../Results/BPIC13-Hamming-2021-01-25 21-53-18.csv\", delimiter=';', dtype = np.int)\n",
    "distMatrix_heu = np.genfromtxt(\"../Results/PrefixSplit/PrefixSplit-BPIC13-Hamming-2021-01-30 20-51-18.csv\", delimiter=';', dtype = np.int)\n",
    "\n",
    "#distMatrix_heu = np.genfromtxt(\"../Results/Split2/Split2-BPIC20-Levenshtein-2021-01-25 23-37-06.csv\", delimiter=';', dtype = np.int)"
   ]
  },
  {
   "cell_type": "code",
   "execution_count": 9,
   "metadata": {},
   "outputs": [
    {
     "data": {
      "text/plain": [
       "'0,0'"
      ]
     },
     "execution_count": 9,
     "metadata": {},
     "output_type": "execute_result"
    }
   ],
   "source": [
    "mean_abs_error = np.mean(np.abs(distMatrix_opt - distMatrix_heu))\n",
    "str(mean_abs_error).replace(\".\", \",\")"
   ]
  },
  {
   "cell_type": "code",
   "execution_count": 26,
   "metadata": {},
   "outputs": [],
   "source": [
    "def mape(distMatrix_opt, distMatrix_heu):\n",
    "    error = 0\n",
    "    for x in range(len(distMatrix_opt)):\n",
    "        for y in range(len(distMatrix_opt)):\n",
    "            if x != y:\n",
    "                error += abs((distMatrix_opt[x][y] - distMatrix_heu[x][y]) / distMatrix_opt[x][y])\n",
    "\n",
    "    mape = error / (distMatrix_opt.size - len(np.diag(distMatrix_opt)))\n",
    "    return mape"
   ]
  },
  {
   "cell_type": "code",
   "execution_count": 44,
   "metadata": {},
   "outputs": [
    {
     "name": "stdout",
     "output_type": "stream",
     "text": [
      "0.0\n",
      "0.0942485845589675\n",
      "0.11400068418630799\n",
      "0.07095253435081407\n",
      "foo\n"
     ]
    }
   ],
   "source": [
    "bpic = \"BPIC13\"\n",
    "heuristic = \"PrefixSplit\"\n",
    "methods = [\"Hamming\", \"Levenshtein\", \"Levenshtein2\", \"Damerau\", \"JaroWinkler\"]\n",
    "\n",
    "for m in methods:\n",
    "    file_opt = [filename for filename in os.listdir(\"../Results\") if filename.startswith(bpic + \"-\" + m)][0]\n",
    "    file_heu = [filename for filename in os.listdir(\"../Results/\"+ heuristic) if filename.startswith(heuristic + \"-\" + bpic + \"-\" + m)][0]\n",
    "    distMatrix_opt = np.genfromtxt(\"../Results/\" + file_opt, delimiter=';', dtype = np.int)\n",
    "    distMatrix_heu = np.genfromtxt(\"../Results/\" + heuristic + \"/\" + file_heu, delimiter=';', dtype = np.int)\n",
    "    \n",
    "    if m == \"JaroWinkler\":\n",
    "    #    print(np.mean(np.abs(distMatrix_opt - distMatrix_heu))/255)\n",
    "        print(\"foo\")\n",
    "    else:\n",
    "        #print(np.mean(np.abs(distMatrix_opt - distMatrix_heu)))\n",
    "        print(mape(distMatrix_opt, distMatrix_heu))\n",
    "\n"
   ]
  },
  {
   "cell_type": "code",
   "execution_count": 21,
   "metadata": {},
   "outputs": [
    {
     "data": {
      "text/plain": [
       "'BPIC13-Damerau-2021-01-25 21-53-26.csv'"
      ]
     },
     "execution_count": 21,
     "metadata": {},
     "output_type": "execute_result"
    }
   ],
   "source": [
    "[filename for filename in os.listdir(\"../Results\") if filename.startswith(\"\")][0]"
   ]
  }
 ],
 "metadata": {
  "kernelspec": {
   "display_name": "Python 3",
   "language": "python",
   "name": "python3"
  },
  "language_info": {
   "codemirror_mode": {
    "name": "ipython",
    "version": 3
   },
   "file_extension": ".py",
   "mimetype": "text/x-python",
   "name": "python",
   "nbconvert_exporter": "python",
   "pygments_lexer": "ipython3",
   "version": "3.8.5"
  }
 },
 "nbformat": 4,
 "nbformat_minor": 4
}
